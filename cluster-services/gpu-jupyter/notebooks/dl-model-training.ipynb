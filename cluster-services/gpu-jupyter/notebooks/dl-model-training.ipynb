{
 "cells": [
  {
   "cell_type": "code",
   "execution_count": 1,
   "id": "0ed123fa-22c0-4370-a676-bbf79cedebfd",
   "metadata": {},
   "outputs": [
    {
     "name": "stderr",
     "output_type": "stream",
     "text": [
      "2025-04-27 14:23:30.666839: E external/local_xla/xla/stream_executor/cuda/cuda_fft.cc:477] Unable to register cuFFT factory: Attempting to register factory for plugin cuFFT when one has already been registered\n",
      "WARNING: All log messages before absl::InitializeLog() is called are written to STDERR\n",
      "E0000 00:00:1745763810.678276    4813 cuda_dnn.cc:8310] Unable to register cuDNN factory: Attempting to register factory for plugin cuDNN when one has already been registered\n",
      "E0000 00:00:1745763810.681854    4813 cuda_blas.cc:1418] Unable to register cuBLAS factory: Attempting to register factory for plugin cuBLAS when one has already been registered\n",
      "2025-04-27 14:23:30.695086: I tensorflow/core/platform/cpu_feature_guard.cc:210] This TensorFlow binary is optimized to use available CPU instructions in performance-critical operations.\n",
      "To enable the following instructions: AVX2 FMA, in other operations, rebuild TensorFlow with the appropriate compiler flags.\n"
     ]
    }
   ],
   "source": [
    "import tensorflow as tf\n",
    "from tensorflow.keras.models import Sequential\n",
    "from tensorflow.keras.layers import Dense\n",
    "from tensorflow import keras\n",
    "from tensorflow.keras import layers, optimizers\n",
    "from tensorflow.keras.callbacks import EarlyStopping, ReduceLROnPlateau\n",
    "import pandas as pd\n",
    "import numpy as np\n",
    "import matplotlib.pyplot as plt\n",
    "from sklearn.model_selection import train_test_split\n",
    "from sklearn.preprocessing import StandardScaler\n",
    "import joblib\n",
    "import json"
   ]
  },
  {
   "cell_type": "code",
   "execution_count": 2,
   "id": "d75c38e7-6db3-4537-afac-af41070c56da",
   "metadata": {},
   "outputs": [
    {
     "name": "stdout",
     "output_type": "stream",
     "text": [
      "Num GPUs Available: 1\n"
     ]
    }
   ],
   "source": [
    "\n",
    "# Print available GPUs\n",
    "print(\"Num GPUs Available:\", len(tf.config.list_physical_devices('GPU')))\n",
    "\n",
    "# Limit GPU memory growth\n",
    "gpus = tf.config.experimental.list_physical_devices('GPU')\n",
    "if gpus:\n",
    "    try:\n",
    "        for gpu in gpus:\n",
    "            tf.config.experimental.set_memory_growth(gpu, True)\n",
    "    except RuntimeError as e:\n",
    "        print(e)\n"
   ]
  },
  {
   "cell_type": "code",
   "execution_count": 3,
   "id": "24efb020-6d32-4167-b870-d6f32df07603",
   "metadata": {},
   "outputs": [],
   "source": [
    "def combine_csv_files(file1, file2, output_file, merge_on=None):\n",
    "    # Read the CSV files\n",
    "    df1 = pd.read_csv(file1)\n",
    "    df2 = pd.read_csv(file2)\n",
    "    \n",
    "    # Merge or concatenate based on common column or index\n",
    "    if merge_on:\n",
    "        combined_df = pd.merge(df1, df2, on=merge_on, how='outer')\n",
    "    else:\n",
    "        combined_df = pd.concat([df1, df2], ignore_index=True)\n",
    "    \n",
    "    # Save the combined DataFrame to a new CSV file\n",
    "    combined_df.to_csv(output_file, index=False)\n",
    "    print(f\"Combined CSV saved to {output_file}\")\n",
    "def max_duplicate_deployment_id_count(df):\n",
    "\n",
    "    \n",
    "    # Get the count of each unique deployment_id\n",
    "    duplicate_counts = df['deployment_id'].value_counts()\n",
    "    \n",
    "    # Return the maximum count of duplicates\n",
    "    max_count = duplicate_counts.max()\n",
    "    return max_count\n"
   ]
  },
  {
   "cell_type": "code",
   "execution_count": 4,
   "id": "21ac9fb4-11af-4bc6-b7e0-40f3b2702bcf",
   "metadata": {},
   "outputs": [
    {
     "name": "stdout",
     "output_type": "stream",
     "text": [
      "Combined CSV saved to ./datasets/combined_output.csv\n",
      "Combined CSV saved to ./datasets/combined_output.csv\n",
      "Combined CSV saved to ./datasets/combined_output.csv\n"
     ]
    }
   ],
   "source": [
    "# Example usage\n",
    "combine_csv_files('./datasets/df1_0_optimize.csv', './datasets/df2_1_latency.csv', './datasets/combined_output.csv', merge_on=None)\n",
    "combine_csv_files('./datasets/combined_output.csv', './datasets/df3_23_scaling.csv', './datasets/combined_output.csv', merge_on=None)\n",
    "combine_csv_files('./datasets/combined_output.csv', './datasets/df4_1_migrate.csv', './datasets/combined_output.csv', merge_on=None)\n"
   ]
  },
  {
   "cell_type": "code",
   "execution_count": 7,
   "id": "079565b3-4c7b-472c-a629-28283c6a311d",
   "metadata": {},
   "outputs": [],
   "source": [
    "# Load dataset\n",
    "file_path = \"./datasets/combined_output.csv\"\n",
    "df = pd.read_csv(file_path)\n",
    "max_duplicate_deployment_id_count(df)\n",
    "# Feature selection \n",
    "num_features = ['replicas','initial_cpu','applied_cpu', 'initial_avg_memory_consumption', 'applied_memory_consumption', 'initial_avg_latency', 'applied_latency']\n",
    "X_numeric = df[num_features].values\n",
    "deployment_ids = df['deployment_id'].values\n",
    "y = df['label'].values"
   ]
  },
  {
   "cell_type": "code",
   "execution_count": 8,
   "id": "18c68f05-0713-4961-97d1-09852442c80a",
   "metadata": {},
   "outputs": [
    {
     "data": {
      "text/plain": [
       "12000"
      ]
     },
     "execution_count": 8,
     "metadata": {},
     "output_type": "execute_result"
    }
   ],
   "source": [
    "len(df)"
   ]
  },
  {
   "cell_type": "code",
   "execution_count": 9,
   "id": "c5ba2735-b589-453c-b59b-cdea752e2c73",
   "metadata": {},
   "outputs": [
    {
     "data": {
      "text/plain": [
       "np.int64(1)"
      ]
     },
     "execution_count": 9,
     "metadata": {},
     "output_type": "execute_result"
    }
   ],
   "source": [
    "max_duplicate_deployment_id_count(df)"
   ]
  },
  {
   "cell_type": "code",
   "execution_count": 10,
   "id": "df377734-e501-421f-a9ea-7c675c721285",
   "metadata": {},
   "outputs": [],
   "source": [
    "deployment_id_mapping = {int(dep_id): i for i, dep_id in enumerate(df['deployment_id'].unique())}"
   ]
  },
  {
   "cell_type": "code",
   "execution_count": 11,
   "id": "c4343cee-2f2b-49d8-92aa-59ae2a739f80",
   "metadata": {},
   "outputs": [],
   "source": [
    "\n",
    "# Normalize features\n",
    "scaler = StandardScaler()\n",
    "X_numeric = scaler.fit_transform(X_numeric)\n",
    "\n",
    "# Convert deployment_id to categorical\n",
    "deployment_id_unique = df['deployment_id'].nunique()\n",
    "deployment_id_mapping = {dep_id: i for i, dep_id in enumerate(df['deployment_id'].unique())}\n",
    "deployment_ids = np.array([deployment_id_mapping[d] for d in deployment_ids])  # Convert to integer IDs\n",
    "\n",
    "# Split dataset (80% training, 20% testing)\n",
    "X_num_train, X_num_test, dep_train, dep_test, y_train, y_test = train_test_split(\n",
    "    X_numeric, deployment_ids, y, test_size=0.2, random_state=42\n",
    ")"
   ]
  },
  {
   "cell_type": "code",
   "execution_count": 12,
   "id": "08cb3083-2238-47c8-a37c-060cb34689fd",
   "metadata": {},
   "outputs": [
    {
     "data": {
      "text/plain": [
       "['./models/scaler-meta-v9-2.pkl']"
      ]
     },
     "execution_count": 12,
     "metadata": {},
     "output_type": "execute_result"
    }
   ],
   "source": [
    "joblib.dump(scaler, './models/scaler-meta-v9-2.pkl')"
   ]
  },
  {
   "cell_type": "code",
   "execution_count": 13,
   "id": "f897ab5d-e809-4994-a7a0-45f2c97193b6",
   "metadata": {},
   "outputs": [
    {
     "name": "stderr",
     "output_type": "stream",
     "text": [
      "I0000 00:00:1745763837.906377    4813 gpu_device.cc:2022] Created device /job:localhost/replica:0/task:0/device:GPU:0 with 1685 MB memory:  -> device: 0, name: NVIDIA GeForce RTX 3050, pci bus id: 0000:08:00.0, compute capability: 8.6\n"
     ]
    }
   ],
   "source": [
    "# Define the neural network model\n",
    "# Two inputs: deployment_id and numerical features\n",
    "deployment_input = layers.Input(shape=(1,), name=\"deployment_id\")\n",
    "numeric_input = layers.Input(shape=(7,), name=\"numeric_features\")\n",
    "\n",
    "# Embedding layer for deployment_id\n",
    "embedding_dim = 4  # Number of embedding dimensions\n",
    "deployment_embedding = layers.Embedding(input_dim=deployment_id_unique+200, output_dim=embedding_dim)(deployment_input)\n",
    "deployment_embedding = layers.Flatten()(deployment_embedding)\n",
    "merged = layers.Concatenate()([deployment_input, numeric_input])"
   ]
  },
  {
   "cell_type": "code",
   "execution_count": 14,
   "id": "6e4bcf50-bc04-4392-b1b5-d54291c8ee0c",
   "metadata": {},
   "outputs": [],
   "source": [
    "# Concatenate embedded deployment_id with numerical features\n",
    "merged = layers.Concatenate()([deployment_embedding, numeric_input])\n",
    "\n",
    "# Dense layers\n",
    "x = layers.Dense(62, activation='relu')(merged)\n",
    "x = layers.BatchNormalization()(x)\n",
    "x = layers.Dropout(0.5)(x)\n",
    "x = layers.Dense(32, activation='relu')(x)\n",
    "x = layers.Dropout(0.5)(x)\n",
    "x = layers.Dense(16, activation='relu')(x)\n",
    "output = layers.Dense(4, activation='softmax')(x)  # 4 classes\n",
    "\n",
    "# Define the model\n",
    "model = keras.Model(inputs=[deployment_input, numeric_input], outputs=output)\n",
    "\n",
    "# Compile the model\n",
    "optimizer = optimizers.Adam(learning_rate=0.005)\n",
    "model.compile(optimizer=optimizer, loss='sparse_categorical_crossentropy', metrics=['accuracy'])\n",
    "\n",
    "# Define early stopping callback\n",
    "early_stopping = keras.callbacks.EarlyStopping(monitor='val_loss', patience=5, restore_best_weights=True)\n",
    "reduce_lr = keras.callbacks.ReduceLROnPlateau(monitor='val_loss', factor=0.5, patience=3, min_lr=1e-6)\n"
   ]
  },
  {
   "cell_type": "code",
   "execution_count": 15,
   "id": "72e1ee6a-b818-41f6-aae9-8c0d4e552687",
   "metadata": {},
   "outputs": [
    {
     "name": "stdout",
     "output_type": "stream",
     "text": [
      "Epoch 1/30\n"
     ]
    },
    {
     "name": "stderr",
     "output_type": "stream",
     "text": [
      "WARNING: All log messages before absl::InitializeLog() is called are written to STDERR\n",
      "I0000 00:00:1745763848.796400    4882 service.cc:148] XLA service 0x7f8ac0d10950 initialized for platform CUDA (this does not guarantee that XLA will be used). Devices:\n",
      "I0000 00:00:1745763848.796446    4882 service.cc:156]   StreamExecutor device (0): NVIDIA GeForce RTX 3050, Compute Capability 8.6\n",
      "2025-04-27 14:24:08.801811: I tensorflow/compiler/mlir/tensorflow/utils/dump_mlir_util.cc:268] disabling MLIR crash reproducer, set env var `MLIR_CRASH_REPRODUCER_DIRECTORY` to enable.\n",
      "I0000 00:00:1745763848.815330    4882 cuda_dnn.cc:529] Loaded cuDNN version 90300\n",
      "I0000 00:00:1745763848.881883    4882 device_compiler.h:188] Compiled cluster using XLA!  This line is logged at most once for the lifetime of the process.\n"
     ]
    },
    {
     "name": "stdout",
     "output_type": "stream",
     "text": [
      "800/800 [==============================] - 7s 6ms/step - loss: 0.7874 - accuracy: 0.6643 - val_loss: 0.3513 - val_accuracy: 0.8321 - lr: 0.0050\n",
      "Epoch 2/30\n",
      "800/800 [==============================] - 5s 6ms/step - loss: 0.5165 - accuracy: 0.7898 - val_loss: 0.3012 - val_accuracy: 0.8750 - lr: 0.0050\n",
      "Epoch 3/30\n",
      "800/800 [==============================] - 5s 6ms/step - loss: 0.4456 - accuracy: 0.8331 - val_loss: 0.1901 - val_accuracy: 0.9454 - lr: 0.0050\n",
      "Epoch 4/30\n",
      "800/800 [==============================] - 5s 6ms/step - loss: 0.3447 - accuracy: 0.8737 - val_loss: 0.2112 - val_accuracy: 0.9292 - lr: 0.0050\n",
      "Epoch 5/30\n",
      "800/800 [==============================] - 5s 7ms/step - loss: 0.2996 - accuracy: 0.8991 - val_loss: 0.2000 - val_accuracy: 0.9196 - lr: 0.0050\n",
      "Epoch 6/30\n",
      "800/800 [==============================] - 5s 6ms/step - loss: 0.2694 - accuracy: 0.9093 - val_loss: 0.2116 - val_accuracy: 0.9133 - lr: 0.0050\n",
      "Epoch 7/30\n",
      "800/800 [==============================] - 5s 6ms/step - loss: 0.1859 - accuracy: 0.9376 - val_loss: 0.1640 - val_accuracy: 0.9237 - lr: 0.0025\n",
      "Epoch 8/30\n",
      "800/800 [==============================] - 5s 7ms/step - loss: 0.1575 - accuracy: 0.9473 - val_loss: 0.1577 - val_accuracy: 0.9346 - lr: 0.0025\n",
      "Epoch 9/30\n",
      "800/800 [==============================] - 5s 6ms/step - loss: 0.1432 - accuracy: 0.9523 - val_loss: 0.1665 - val_accuracy: 0.9408 - lr: 0.0025\n",
      "Epoch 10/30\n",
      "800/800 [==============================] - 5s 6ms/step - loss: 0.1426 - accuracy: 0.9566 - val_loss: 0.1481 - val_accuracy: 0.9488 - lr: 0.0025\n",
      "Epoch 11/30\n",
      "800/800 [==============================] - 5s 6ms/step - loss: 0.1300 - accuracy: 0.9569 - val_loss: 0.1642 - val_accuracy: 0.9375 - lr: 0.0025\n",
      "Epoch 12/30\n",
      "800/800 [==============================] - 5s 6ms/step - loss: 0.1107 - accuracy: 0.9623 - val_loss: 0.1725 - val_accuracy: 0.9283 - lr: 0.0025\n",
      "Epoch 13/30\n",
      "800/800 [==============================] - 5s 6ms/step - loss: 0.0907 - accuracy: 0.9719 - val_loss: 0.2038 - val_accuracy: 0.9225 - lr: 0.0025\n",
      "Epoch 14/30\n",
      "800/800 [==============================] - 5s 6ms/step - loss: 0.0979 - accuracy: 0.9676 - val_loss: 0.1761 - val_accuracy: 0.9333 - lr: 0.0012\n",
      "Epoch 15/30\n",
      "800/800 [==============================] - 5s 6ms/step - loss: 0.0886 - accuracy: 0.9695 - val_loss: 0.1819 - val_accuracy: 0.9346 - lr: 0.0012\n",
      "75/75 [==============================] - 0s 3ms/step - loss: 0.1481 - accuracy: 0.9488\n",
      "Loss: 0.1481020301580429, Accuracy: 0.9487500190734863\n"
     ]
    }
   ],
   "source": [
    "# Train the model\n",
    "history = model.fit(\n",
    "    [dep_train, X_num_train], y_train,\n",
    "    epochs=30, batch_size=12, verbose=1,\n",
    "    validation_data=([dep_test, X_num_test], y_test),\n",
    "    callbacks=[early_stopping,reduce_lr]\n",
    ")\n",
    "\n",
    "# Evaluate the model\n",
    "loss, accuracy = model.evaluate([dep_test, X_num_test], y_test)\n",
    "print(f'Loss: {loss}, Accuracy: {accuracy}')"
   ]
  },
  {
   "cell_type": "code",
   "execution_count": 16,
   "id": "a72b841c-af33-4017-a514-d7115ae5e42e",
   "metadata": {},
   "outputs": [
    {
     "data": {
      "image/png": "[encoded data removed]",
      "text/plain": [
       "<Figure size 1000x500 with 1 Axes>"
      ]
     },
     "metadata": {},
     "output_type": "display_data"
    },
    {
     "data": {
      "image/png": "[encoded data removed]",
      "text/plain": [
       "<Figure size 1000x500 with 1 Axes>"
      ]
     },
     "metadata": {},
     "output_type": "display_data"
    }
   ],
   "source": [
    "import matplotlib.pyplot as plt\n",
    "\n",
    "# Get the training history\n",
    "history_dict = history.history\n",
    "\n",
    "# Plotting loss\n",
    "plt.figure(figsize=(10, 5))\n",
    "plt.plot(history_dict['loss'], label='Training Loss')\n",
    "plt.plot(history_dict['val_loss'], label='Validation Loss')\n",
    "plt.title('Loss over Epochs')\n",
    "plt.xlabel('Epochs')\n",
    "plt.ylabel('Loss')\n",
    "plt.legend()\n",
    "plt.grid(True)\n",
    "plt.show()\n",
    "\n",
    "# Plotting accuracy if available\n",
    "if 'accuracy' in history_dict:\n",
    "    plt.figure(figsize=(10, 5))\n",
    "    plt.plot(history_dict['accuracy'], label='Training Accuracy')\n",
    "    plt.plot(history_dict['val_accuracy'], label='Validation Accuracy')\n",
    "    plt.title('Accuracy over Epochs')\n",
    "    plt.xlabel('Epochs')\n",
    "    plt.ylabel('Accuracy')\n",
    "    plt.legend()\n",
    "    plt.grid(True)\n",
    "    plt.show()"
   ]
  },
  {
   "cell_type": "code",
   "execution_count": 17,
   "id": "da2a8918-efeb-4f24-bcd5-2a96a97d5758",
   "metadata": {},
   "outputs": [
    {
     "name": "stderr",
     "output_type": "stream",
     "text": [
      "/usr/local/lib/python3.11/dist-packages/tf_keras/src/engine/training.py:3098: UserWarning: You are saving your model as an HDF5 file via `model.save()`. This file format is considered legacy. We recommend using instead the native TF-Keras format, e.g. `model.save('my_model.keras')`.\n",
      "  saving_api.save_model(\n"
     ]
    }
   ],
   "source": [
    "model.save('./models/model-meta-v9-2.h5')"
   ]
  },
  {
   "cell_type": "code",
   "execution_count": 18,
   "id": "f28e6f2d-1db0-461c-aecd-ef22524d1b90",
   "metadata": {},
   "outputs": [],
   "source": [
    "def save_embeddings(deployment_id_mapping, file_path='./models/deployment_embeddings.json'):\n",
    "    with open(file_path, 'w') as f:\n",
    "        json.dump(deployment_id_mapping, f)\n",
    "\n",
    "# Example usage after updating the embeddings\n",
    "deployment_id_mapping_str= {str(dep_id): i for i, dep_id in enumerate(df['deployment_id'].unique())}\n",
    "save_embeddings(deployment_id_mapping_str)"
   ]
  },
  {
   "cell_type": "code",
   "execution_count": 45,
   "id": "cca4a0af-d334-46f0-96be-7346c9447a03",
   "metadata": {},
   "outputs": [],
   "source": [
    "new_deployment_id_idx=np.array([[71345134]])"
   ]
  },
  {
   "cell_type": "code",
   "execution_count": 212,
   "id": "d5e6583a-a71f-41be-bbf8-0e11ef39c119",
   "metadata": {},
   "outputs": [
    {
     "name": "stdout",
     "output_type": "stream",
     "text": [
      "1/1 [==============================] - 0s 14ms/step\n",
      "Predicted action: 2\n",
      "1/1 [==============================] - 0s 13ms/step\n",
      "Predicted action: 2\n"
     ]
    }
   ],
   "source": [
    "# Should return a 2\n",
    "new_data = np.array([[ 1, 1,1, 200, 350, 15, 15]])\n",
    "new_numeric_features = scaler.transform(new_data) \n",
    "predicted_probs = model.predict([new_deployment_id_idx, new_numeric_features])\n",
    "predicted_class = np.argmax(predicted_probs, axis=1)  # Get the class with the highest probability\n",
    "\n",
    "print(f\"Predicted action: {predicted_class[0]}\")\n",
    "# Should return a 0 > IS WRONG. WHY DOWNSCALE AT ALL?\n",
    "new_data = np.array([[ 1, 1,1, 200, 220, 15, 15]])\n",
    "new_numeric_features = scaler.transform(new_data) \n",
    "predicted_probs = model.predict([new_deployment_id_idx, new_numeric_features])\n",
    "predicted_class = np.argmax(predicted_probs, axis=1)  # Get the class with the highest probability\n",
    "\n",
    "print(f\"Predicted action: {predicted_class[0]}\")"
   ]
  },
  {
   "cell_type": "code",
   "execution_count": 197,
   "id": "2466bcee-fc83-4b77-8b40-fe258e8b9f7f",
   "metadata": {},
   "outputs": [
    {
     "name": "stdout",
     "output_type": "stream",
     "text": [
      "1/1 [==============================] - 0s 13ms/step\n",
      "Predicted action: 1\n"
     ]
    }
   ],
   "source": [
    "# LATENCY TEST\n",
    "# Should return a 1\n",
    "new_data = np.array([[ 1, 1,1, 200, 200, 15, 28]])\n",
    "new_numeric_features = scaler.transform(new_data) \n",
    "predicted_probs = model.predict([new_deployment_id_idx, new_numeric_features])\n",
    "predicted_class = np.argmax(predicted_probs, axis=1)\n",
    "print(f\"Predicted action: {predicted_class[0]}\")"
   ]
  },
  {
   "cell_type": "code",
   "execution_count": 198,
   "id": "5328330f-e0c4-49b2-b23d-a284e3da8045",
   "metadata": {},
   "outputs": [
    {
     "name": "stdout",
     "output_type": "stream",
     "text": [
      "1/1 [==============================] - 0s 13ms/step\n",
      "Predicted action: 2\n"
     ]
    }
   ],
   "source": [
    "\n",
    "# Should return a 1 because LATENCY. WHY RETURN 3???\n",
    "new_data = np.array([[ 1, 1,1, 400, 400, 35,46]])\n",
    "new_numeric_features = scaler.transform(new_data) \n",
    "predicted_probs = model.predict([new_deployment_id_idx, new_numeric_features])\n",
    "predicted_class = np.argmax(predicted_probs, axis=1)\n",
    "print(f\"Predicted action: {predicted_class[0]}\")"
   ]
  },
  {
   "cell_type": "code",
   "execution_count": 321,
   "id": "27b493c5-0cd4-4bdd-ba87-0e0fa0e5ac47",
   "metadata": {},
   "outputs": [],
   "source": [
    "# CPU TEST"
   ]
  },
  {
   "cell_type": "code",
   "execution_count": 199,
   "id": "308bfa70-5ca5-4217-a601-4dd4d3f34d9c",
   "metadata": {},
   "outputs": [
    {
     "name": "stdout",
     "output_type": "stream",
     "text": [
      "1/1 [==============================] - 0s 15ms/step\n",
      "Predicted action: 0\n"
     ]
    }
   ],
   "source": [
    "# Should return a 0 \n",
    "new_data = np.array([[ 1, 1,1, 200, 200, 16,16]])\n",
    "new_numeric_features = scaler.transform(new_data) \n",
    "predicted_probs = model.predict([new_deployment_id_idx, new_numeric_features])\n",
    "predicted_class = np.argmax(predicted_probs, axis=1)\n",
    "print(f\"Predicted action: {predicted_class[0]}\")"
   ]
  },
  {
   "cell_type": "code",
   "execution_count": 200,
   "id": "61699562-39fa-48f9-99a2-e21b1504e7ab",
   "metadata": {},
   "outputs": [
    {
     "name": "stdout",
     "output_type": "stream",
     "text": [
      "1/1 [==============================] - 0s 30ms/step\n",
      "Predicted action: 1\n"
     ]
    }
   ],
   "source": [
    "# CPU Latency return 1!\n",
    "new_data = np.array([[ 1, 1,0.5, 200, 50, 16,23]])\n",
    "new_numeric_features = scaler.transform(new_data) \n",
    "predicted_probs = model.predict([new_deployment_id_idx, new_numeric_features])\n",
    "predicted_class = np.argmax(predicted_probs, axis=1)\n",
    "print(f\"Predicted action: {predicted_class[0]}\")"
   ]
  },
  {
   "cell_type": "code",
   "execution_count": 201,
   "id": "dfe637cb-95e4-4a94-bbed-ed61dc01df61",
   "metadata": {},
   "outputs": [
    {
     "name": "stdout",
     "output_type": "stream",
     "text": [
      "1/1 [==============================] - 0s 14ms/step\n",
      "Predicted action: 1\n",
      "1/1 [==============================] - 0s 13ms/step\n",
      "Predicted action: 3\n",
      "1/1 [==============================] - 0s 12ms/step\n",
      "Predicted action: 2\n"
     ]
    }
   ],
   "source": [
    "# Should return a 1 > migrate away!\n",
    "new_data = np.array([[ 1, 2,0.2, 200, 100, 16,16]])\n",
    "new_numeric_features = scaler.transform(new_data) \n",
    "predicted_probs = model.predict([new_deployment_id_idx, new_numeric_features])\n",
    "predicted_class = np.argmax(predicted_probs, axis=1)\n",
    "print(f\"Predicted action: {predicted_class[0]}\")\n",
    "assert predicted_class[0] == 1\n",
    "# Should return a 3\n",
    "new_data = np.array([[ 2, 2,1, 200, 100, 16,16]])\n",
    "new_numeric_features = scaler.transform(new_data) \n",
    "predicted_probs = model.predict([new_deployment_id_idx, new_numeric_features])\n",
    "predicted_class = np.argmax(predicted_probs, axis=1)\n",
    "print(f\"Predicted action: {predicted_class[0]}\")\n",
    "assert predicted_class[0] == 3\n",
    "# Should return a 2 scale up!\n",
    "new_data = np.array([[ 1, 1,2, 200, 100, 16,16]])\n",
    "new_numeric_features = scaler.transform(new_data) \n",
    "predicted_probs = model.predict([new_deployment_id_idx, new_numeric_features])\n",
    "predicted_class = np.argmax(predicted_probs, axis=1)\n",
    "print(f\"Predicted action: {predicted_class[0]}\")\n",
    "assert predicted_class[0] == 2"
   ]
  },
  {
   "cell_type": "code",
   "execution_count": null,
   "id": "b4c6fc5d-d6a4-4abd-8ff4-ec91696fc4ac",
   "metadata": {},
   "outputs": [],
   "source": []
  }
 ],
 "metadata": {
  "kernelspec": {
   "display_name": "Python 3 (ipykernel)",
   "language": "python",
   "name": "python3"
  },
  "language_info": {
   "codemirror_mode": {
    "name": "ipython",
    "version": 3
   },
   "file_extension": ".py",
   "mimetype": "text/x-python",
   "name": "python",
   "nbconvert_exporter": "python",
   "pygments_lexer": "ipython3",
   "version": "3.11.0rc1"
  }
 },
 "nbformat": 4,
 "nbformat_minor": 5
}
